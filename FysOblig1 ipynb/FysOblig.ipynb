{
 "cells": [
  {
   "cell_type": "markdown",
   "metadata": {},
   "source": [
    "# Fys Oblig 1"
   ]
  },
  {
   "attachments": {},
   "cell_type": "markdown",
   "metadata": {},
   "source": [
    "Choose to analyze a curve that looks like:\n",
    "![a1](attach/realCurveDrawing.png)\n",
    "with a charge density $\\rho_l$"
   ]
  },
  {
   "attachments": {},
   "cell_type": "markdown",
   "metadata": {},
   "source": [
    "Now the electric field $\\vec{E}$ from a small part $\\vec{dr}$ would be\n",
    "![a2](attach/rDrDef.png)"
   ]
  },
  {
   "cell_type": "markdown",
   "metadata": {},
   "source": [
    "We can see that it's complicated to sum up all the dr's so instead we choose a simplified model"
   ]
  },
  {
   "attachments": {},
   "cell_type": "markdown",
   "metadata": {},
   "source": [
    "![a3](attach/fakeCurveDrawing.png)"
   ]
  },
  {
   "cell_type": "markdown",
   "metadata": {},
   "source": [
    "We are going to see how $\\vec{E}$ from this model behaves at (0, 0), (0, 5), where it is zero and how all this compares to the simulation of the actual model. It looks like that E at (0,0) wouldnt give an accurate picture of the real model since the charge distribution is moved up, while E at (0, 5) should be much closer to the real deal."
   ]
  },
  {
   "cell_type": "markdown",
   "metadata": {},
   "source": [
    "First, the different $\\vec{E_q}$'s"
   ]
  },
  {
   "attachments": {},
   "cell_type": "markdown",
   "metadata": {},
   "source": [
    "Here we are only looking at the xy-plane and we dont care about the x component of $\\vec{E}$ because it is obvious that they cancel each other out.\n",
    "![a4](attach/differentEqs.png)"
   ]
  },
  {
   "attachments": {},
   "cell_type": "markdown",
   "metadata": {},
   "source": [
    "![a1](attach/Eatzerozero.png)"
   ]
  },
  {
   "attachments": {},
   "cell_type": "markdown",
   "metadata": {},
   "source": [
    "And at (0, 5)\n",
    "![a1](attach/Eatzerofive.png)"
   ]
  },
  {
   "cell_type": "markdown",
   "metadata": {},
   "source": [
    "Now for the simulation. To make them comparable we are going to say that the total charge of the curve is 3q."
   ]
  },
  {
   "cell_type": "code",
   "execution_count": 4,
   "metadata": {
    "scrolled": true
   },
   "outputs": [
    {
     "name": "stdout",
     "output_type": "stream",
     "text": [
      "E(0, 5): [3.01950305e-17 9.48993784e-01]\n",
      "E(0, 0): [-6.50521303e-17 -2.71104626e-01]\n"
     ]
    }
   ],
   "source": [
    "import numpy as np\n",
    "import matplotlib.pyplot as pl\n",
    "\n",
    "\n",
    "def getE(Qr, R):\n",
    "\n",
    "    #Qr: the loc of all the Qs\n",
    "    #R: target loc\n",
    "\n",
    "    K = 1 #K = 1/4piE_0, just to make it simple, we only care about relative values\n",
    "\n",
    "    #total charge should be 3q (or rather just 3, since we are setting q=1 for simplicitys sake)\n",
    "    #so that we can compare with hand calcs\n",
    "    q = 3/len(Qr)\n",
    "\n",
    "    E = np.zeros_like(R)\n",
    "    for i in range(len(Qr)):\n",
    "        #E from Qi\n",
    "        r = R - Qr[i]\n",
    "        E += K*q*r/np.linalg.norm(r)**3\n",
    "    return E\n",
    "\n",
    "#place Qs\n",
    "N=100\n",
    "x = np.linspace(-2, 2, N)\n",
    "y = -x**2 + 4\n",
    "\n",
    "Q = np.array( [ [x[i], y[i] ] for i in range(len(x))] )\n",
    "\n",
    "#hand calculations gave ca 1.19y for E at (0, 5)\n",
    "print (f\"E(0, 5): {getE(Q, (0., 5.))}\")\n",
    "\n",
    "#and -0.420 at (0,0)\n",
    "print (f\"E(0, 0): {getE(Q, (0., 0.))}\")\n"
   ]
  },
  {
   "cell_type": "markdown",
   "metadata": {},
   "source": [
    "As expected the E at (0,5) is much more accurate ( 1.19 vs 0.949 ) and we can see that since the charge distribution is moved up the vector is greater than it should be.\n",
    "while E at (0, 0) is relatively way off ( -0.420 vs -0.271 ). Here the vector is also greater even though the charges are farther away from the point than the actual curve, but thats because the E from the curve would point at (0, 0) more from the side, it would be longer in the x direction than y, and of course cancel itself out."
   ]
  },
  {
   "cell_type": "markdown",
   "metadata": {},
   "source": [
    "Now lets find some points where E = 0, with brute force ofc. First the simplified model."
   ]
  },
  {
   "cell_type": "code",
   "execution_count": 23,
   "metadata": {},
   "outputs": [
    {
     "name": "stdout",
     "output_type": "stream",
     "text": [
      "[array([0.        , 2.15430862]), array([0.        , 2.84569138])]\n"
     ]
    }
   ],
   "source": [
    "\n",
    "#check zero points of E\n",
    "\n",
    "Q = np.array([\n",
    "    [-1, 2],\n",
    "    [0, 4],\n",
    "    [1, 2]\n",
    "])\n",
    "\n",
    "def getEs(Qr, target):\n",
    "\n",
    "    E = np.zeros_like(target)\n",
    "    for q in Qr:\n",
    "        r = target - q\n",
    "        E += r/np.linalg.norm(r)**3\n",
    "    \n",
    "    return E\n",
    "\n",
    "N = 500\n",
    "\n",
    "xy = np.array( [ [0, i] for i in np.linspace(0, 5, N)])\n",
    "\n",
    "E = np.array( [ getEs(Q, xy[i]) for i in range(len(xy)) ])\n",
    "\n",
    "#all the E = 0\n",
    "\n",
    "zeroP = []\n",
    "\n",
    "for i in range(len(E)):\n",
    "    # if the test number (1e-2) was any smaller the\n",
    "    # algorith wouldnt spit anything out\n",
    "    # at N = 10000 1e-3 does work, while 1e-4 gives nothing\n",
    "    if (np.linalg.norm(E[i]) < 1e-2):\n",
    "        zeroP.append(xy[i])\n",
    "\n",
    "print (zeroP)"
   ]
  },
  {
   "cell_type": "markdown",
   "metadata": {},
   "source": [
    "So around y=2.15 and y=2.84 E is basically zero. Makes sense from looking at the drawing that it would have two zero points, two balance points between (Eq1 and Eq3) and Eq2. One where theyre both smaller(closer to q1 and q3) and one where theyre both bigger(closer to q2). These are the same points that wolfram alpha gave when i gave it the actual equations. It seems that N has to be ridiculously large for E to approach say 1e-16."
   ]
  },
  {
   "cell_type": "markdown",
   "metadata": {},
   "source": [
    "Now the actual field"
   ]
  },
  {
   "cell_type": "code",
   "execution_count": 20,
   "metadata": {},
   "outputs": [
    {
     "name": "stdout",
     "output_type": "stream",
     "text": [
      "[]\n"
     ]
    }
   ],
   "source": [
    "\n",
    "N=600\n",
    "x = np.linspace(-2, 2, N)\n",
    "y = -x**2 + 4\n",
    "\n",
    "Q = np.array( [ [x[i], y[i] ] for i in range(len(x))] )\n",
    "\n",
    "R = np.array( [ [0., i] for i in np.linspace(0, 4, N) ])\n",
    "\n",
    "allE = [ getE(Q, r) for r in R ]\n",
    "\n",
    "zeroP = []\n",
    "\n",
    "for i in range(len(allE)):\n",
    "\n",
    "    if (np.linalg.norm(allE[i]) < 1e-1):\n",
    "        zeroP.append(xy[i])\n",
    "\n",
    "print (zeroP)\n"
   ]
  },
  {
   "cell_type": "markdown",
   "metadata": {},
   "source": [
    "Well... Maybe it changes direction too fast and we dont have enough N's to find the 0. It is obvious that the field points downward when we start at (0,0), so lets do a test to see if it ever gets positive in the y direction, if so then there must a zero point since it is continuous."
   ]
  },
  {
   "cell_type": "code",
   "execution_count": 30,
   "metadata": {
    "scrolled": true
   },
   "outputs": [
    {
     "name": "stdout",
     "output_type": "stream",
     "text": [
      "0\n"
     ]
    }
   ],
   "source": [
    "pointsCount = 0\n",
    "alreadyPos = False\n",
    "for i in range(len(allE)):\n",
    "\n",
    "    if (allE[i][1] > 0 and i<(len(allE)-1)): #exclude the last obvious case\n",
    "        if (not alreadyPos):\n",
    "            pointsCount += 1\n",
    "            alreadyPos = True\n",
    "    else:\n",
    "        alreadyPos = False\n",
    "            \n",
    "print(pointsCount)\n",
    "\n"
   ]
  },
  {
   "cell_type": "markdown",
   "metadata": {},
   "source": [
    "So there probably arent any zero points. And this would be the greatest difference between the simplified model and the real one. Kinda a big one."
   ]
  },
  {
   "cell_type": "code",
   "execution_count": null,
   "metadata": {},
   "outputs": [],
   "source": []
  },
  {
   "cell_type": "code",
   "execution_count": null,
   "metadata": {},
   "outputs": [],
   "source": []
  }
 ],
 "metadata": {
  "kernelspec": {
   "display_name": "Python 3",
   "language": "python",
   "name": "python3"
  },
  "language_info": {
   "codemirror_mode": {
    "name": "ipython",
    "version": 3
   },
   "file_extension": ".py",
   "mimetype": "text/x-python",
   "name": "python",
   "nbconvert_exporter": "python",
   "pygments_lexer": "ipython3",
   "version": "3.7.6"
  }
 },
 "nbformat": 4,
 "nbformat_minor": 4
}
