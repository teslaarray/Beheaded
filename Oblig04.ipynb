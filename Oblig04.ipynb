{
 "cells": [
  {
   "cell_type": "markdown",
   "metadata": {},
   "source": [
    "Finding a magnetic field from a circuit numerically."
   ]
  },
  {
   "cell_type": "code",
   "execution_count": 1,
   "metadata": {},
   "outputs": [],
   "source": [
    "import numpy as np\n",
    "import matplotlib.pyplot as pl\n",
    "\n",
    "\n",
    "def getBfieldAt(at, cir, I=1.0):\n",
    "\n",
    "    # cir = position of circuit\n",
    "    # cir = [x, y, z], [x, y, z]... I is in direction of dCir\n",
    "    # using midpoint as the position of dl\n",
    "\n",
    "    B = np.zeros(3)\n",
    "    k = 1.256e-6 / (4 * np.pi)\n",
    "\n",
    "    for i in range(1, len(cir)):\n",
    "        mid = (cir[i] + cir[i - 1]) / 2.0\n",
    "        dl = cir[i] - cir[i - 1]\n",
    "\n",
    "        R = at - mid\n",
    "\n",
    "        B += k * I * (np.cross(dl, R)) / np.linalg.norm(R) ** 3\n",
    "\n",
    "    return B\n"
   ]
  },
  {
   "cell_type": "code",
   "execution_count": 2,
   "metadata": {},
   "outputs": [],
   "source": [
    "# Two circular circuits with radius a and centered on the z-axis: \n",
    "# one at z=−a/2 with a current I in the positive direction (counterclockwise), \n",
    "# and one at z=a/2 with a current I in the negative direction (clockwise).\n",
    "\n",
    "a = 1.0\n",
    "\n",
    "c1 = []\n",
    "c2 = []\n",
    "N=1000\n",
    "dth = 2*np.pi/N\n",
    "\n",
    "for i in range(N):\n",
    "    c1.append([np.cos(dth*i), np.sin(dth*i), -a/2.0]) #positive direction\n",
    "    c2.append([np.cos(-dth*i), np.sin(-dth*i), a/2.0]) #negative\n",
    "\n",
    "    \n",
    "\n",
    "    \n",
    "# calculate and plot ...\n"
   ]
  }
 ],
 "metadata": {
  "kernelspec": {
   "display_name": "Python 3",
   "language": "python",
   "name": "python3"
  },
  "language_info": {
   "codemirror_mode": {
    "name": "ipython",
    "version": 3
   },
   "file_extension": ".py",
   "mimetype": "text/x-python",
   "name": "python",
   "nbconvert_exporter": "python",
   "pygments_lexer": "ipython3",
   "version": "3.7.6"
  }
 },
 "nbformat": 4,
 "nbformat_minor": 4
}
